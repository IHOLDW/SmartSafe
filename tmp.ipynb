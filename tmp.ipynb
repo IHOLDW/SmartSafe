{
 "cells": [
  {
   "cell_type": "code",
   "execution_count": 1,
   "metadata": {},
   "outputs": [],
   "source": [
    "from ultralytics import YOLO\n",
    "import cv2 as cv"
   ]
  },
  {
   "cell_type": "code",
   "execution_count": 2,
   "metadata": {},
   "outputs": [
    {
     "name": "stdout",
     "output_type": "stream",
     "text": [
      "WARNING  Unable to automatically guess model task, assuming 'task=detect'. Explicitly define task for your model, i.e. 'task=detect', 'segment', 'classify','pose' or 'obb'.\n"
     ]
    }
   ],
   "source": [
    "onnx_model_yolo = YOLO(r'models\\human_loosely_trained.onnx')"
   ]
  },
  {
   "cell_type": "code",
   "execution_count": 3,
   "metadata": {},
   "outputs": [
    {
     "name": "stdout",
     "output_type": "stream",
     "text": [
      "Loading models\\human_loosely_trained.onnx for ONNX Runtime inference...\n",
      "Using ONNX Runtime CPUExecutionProvider\n",
      "\n",
      "image 1/1 C:\\Users\\s9554\\Downloads\\test2_3_human.jpg: 640x640 4 Humans, 227.0ms\n",
      "Speed: 29.1ms preprocess, 227.0ms inference, 57.6ms postprocess per image at shape (1, 3, 640, 640)\n"
     ]
    }
   ],
   "source": [
    "res = onnx_model_yolo(r\"C:\\Users\\s9554\\Downloads\\test2_3_human.jpg\")"
   ]
  },
  {
   "cell_type": "code",
   "execution_count": 4,
   "metadata": {},
   "outputs": [],
   "source": [
    "for res in res:\n",
    "    res.show()"
   ]
  },
  {
   "cell_type": "code",
   "execution_count": 5,
   "metadata": {},
   "outputs": [
    {
     "name": "stdout",
     "output_type": "stream",
     "text": [
      "ultralytics.engine.results.Boxes object with attributes:\n",
      "\n",
      "cls: tensor([0.])\n",
      "conf: tensor([0.4095])\n",
      "data: tensor([[3.1582e+01, 4.5529e+01, 1.5662e+03, 1.5954e+03, 4.0946e-01, 0.0000e+00]])\n",
      "id: None\n",
      "is_track: False\n",
      "orig_shape: (1600, 1581)\n",
      "shape: torch.Size([1, 6])\n",
      "xywh: tensor([[ 798.8962,  820.4547, 1534.6281, 1549.8523]])\n",
      "xywhn: tensor([[0.5053, 0.5128, 0.9707, 0.9687]])\n",
      "xyxy: tensor([[  31.5822,   45.5286, 1566.2102, 1595.3809]])\n",
      "xyxyn: tensor([[0.0200, 0.0285, 0.9906, 0.9971]])\n"
     ]
    }
   ],
   "source": [
    "for res in res:\n",
    "    print(res.boxes)\n",
    "#   for box in res:\n",
    "#     x_center, y_center, width, height = box.xywh\n",
    "#     print(x_center)\n",
    "#     print(y_center)\n",
    "#     print(width)\n",
    "#     print(height)"
   ]
  },
  {
   "cell_type": "code",
   "execution_count": 6,
   "metadata": {},
   "outputs": [],
   "source": [
    "(x, y), (w, h) = (798.8962,  820.4547), (1534.6281, 1549.8523)"
   ]
  },
  {
   "cell_type": "code",
   "execution_count": 10,
   "metadata": {},
   "outputs": [],
   "source": [
    "boxes = {\n",
    "    'xyxy': ([[  31.5822,   45.5286, 1566.2102, 1595.3809]]),  # top-left (x1, y1), bottom-right (x2, y2)\n",
    "}\n",
    "\n",
    "# Extract the coordinates for the bounding box\n",
    "x1, y1, x2, y2 = boxes['xyxy'][0]  # Get the first (and only) box's coordinates\n",
    "\n",
    "# Convert the coordinates to integers\n",
    "x1, y1, x2, y2 = map(int, [x1, y1, x2, y2])\n"
   ]
  },
  {
   "cell_type": "code",
   "execution_count": 11,
   "metadata": {},
   "outputs": [],
   "source": [
    "img = cv.imread(r\"C:\\Users\\s9554\\Downloads\\IMG-20220429-WA0000.jpg\")\n",
    "cv.rectangle(img, (x1, y1), (x2, y2), (0, 255, 0), 2)\n",
    "cv.imshow(\"img\", img)\n",
    "cv.waitKey(0)\n",
    "cv.destroyAllWindows()"
   ]
  },
  {
   "cell_type": "code",
   "execution_count": 24,
   "metadata": {},
   "outputs": [
    {
     "name": "stdout",
     "output_type": "stream",
     "text": [
      "(1600, 1581, 3)\n"
     ]
    }
   ],
   "source": [
    "print(img.shape)"
   ]
  },
  {
   "cell_type": "code",
   "execution_count": null,
   "metadata": {},
   "outputs": [],
   "source": []
  }
 ],
 "metadata": {
  "kernelspec": {
   "display_name": "yolo",
   "language": "python",
   "name": "python3"
  },
  "language_info": {
   "codemirror_mode": {
    "name": "ipython",
    "version": 3
   },
   "file_extension": ".py",
   "mimetype": "text/x-python",
   "name": "python",
   "nbconvert_exporter": "python",
   "pygments_lexer": "ipython3",
   "version": "3.9.21"
  }
 },
 "nbformat": 4,
 "nbformat_minor": 2
}
