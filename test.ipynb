{
 "cells": [
  {
   "cell_type": "code",
   "execution_count": 1,
   "metadata": {},
   "outputs": [],
   "source": [
    "import tensorflow as tf\n",
    "import cv2 as cv\n",
    "import numpy as np"
   ]
  },
  {
   "cell_type": "code",
   "execution_count": null,
   "metadata": {},
   "outputs": [],
   "source": [
    "model_path = r'models\\face_detection_yunet_2023mar.onnx'\n",
    "yolo_model = tf.lite.Interpreter(r'models\\ob_track_fp32.tflite')\n",
    "yolo_model.allocate_tensors()\n",
    "face_detector = cv.FaceDetectorYN.create(model_path, \"\", (320, 320))"
   ]
  },
  {
   "cell_type": "code",
   "execution_count": 12,
   "metadata": {},
   "outputs": [],
   "source": [
    "import cv2\n",
    "import numpy as np\n",
    "import tensorflow.lite as tflite\n",
    "\n",
    "def yolo_bbox(img_path, img_size=(640, 640)):\n",
    "\n",
    "    interpreter = tflite.Interpreter(r'models\\yolo11n_float32.tflite')\n",
    "    interpreter.allocate_tensors()\n",
    "\n",
    "    inp_details = interpreter.get_input_details()[0]\n",
    "    out_details = interpreter.get_output_details()[0]\n",
    "\n",
    "    original_img = cv2.imread(img_path)\n",
    "    resized_img = cv2.resize(original_img, img_size)\n",
    "    img = resized_img.astype(np.float32) / 255.0\n",
    "    img_p = np.expand_dims(img, axis=0)\n",
    "\n",
    "    interpreter.set_tensor(inp_details['index'], img_p)\n",
    "    interpreter.invoke()\n",
    "    out = interpreter.get_tensor(out_details['index']).squeeze().T\n",
    "\n",
    "    boxes = out[:, 0:4]\n",
    "    class_probs = out[:, 4:]\n",
    "    class_ids = np.argmax(class_probs, axis=1)\n",
    "    confidence_scores = np.max(class_probs, axis=1)\n",
    "\n",
    "    confidence_threshold = 0.5\n",
    "    mask = (class_ids == 0) & (confidence_scores > confidence_threshold)\n",
    "\n",
    "    filtered_boxes = boxes[mask]\n",
    "    filtered_scores = confidence_scores[mask]\n",
    "\n",
    "    if filtered_boxes.size == 0:\n",
    "        print(\"No detections found.\")\n",
    "        return\n",
    "\n",
    "    image_height, image_width = img_size\n",
    "    x_center, y_center, w, h = filtered_boxes[:, 0], filtered_boxes[:, 1], filtered_boxes[:, 2], filtered_boxes[:, 3]\n",
    "    x1 = (x_center - w / 2) * image_width\n",
    "    y1 = (y_center - h / 2) * image_height\n",
    "    x2 = (x_center + w / 2) * image_width\n",
    "    y2 = (y_center + h / 2) * image_height\n",
    "\n",
    "    nms_threshold = 0.5\n",
    "    boxes_nms = np.stack([x1, y1, x2 - x1, y2 - y1], axis=1).astype(np.float32).tolist()\n",
    "    indices = cv2.dnn.NMSBoxes(boxes_nms, filtered_scores.tolist(), confidence_threshold, nms_threshold)\n",
    "\n",
    "    for i in indices.flatten():\n",
    "        x1_i, y1_i, x2_i, y2_i = int(x1[i]), int(y1[i]), int(x2[i]), int(y2[i])\n",
    "        cv2.rectangle(resized_img, (x1_i, y1_i), (x2_i, y2_i), (0, 255, 0), 2)\n",
    "        cv2.putText(resized_img, f\"Person: {filtered_scores[i]:.2f}\", (x1_i, y1_i - 10),\n",
    "                    cv2.FONT_HERSHEY_SIMPLEX, 0.5, (0, 255, 0), 2)\n",
    "\n",
    "    cv2.imshow('Detection Results', resized_img)\n",
    "    cv2.waitKey(0)\n",
    "    cv2.destroyAllWindows()"
   ]
  },
  {
   "cell_type": "code",
   "execution_count": 16,
   "metadata": {},
   "outputs": [],
   "source": [
    "img_path = r\"C:\\Users\\s9554\\Downloads\\kids-in-classroom.jpg\""
   ]
  },
  {
   "cell_type": "code",
   "execution_count": 17,
   "metadata": {},
   "outputs": [],
   "source": [
    "yolo_bbox(img_path)"
   ]
  },
  {
   "cell_type": "code",
   "execution_count": null,
   "metadata": {},
   "outputs": [],
   "source": []
  }
 ],
 "metadata": {
  "kernelspec": {
   "display_name": "main_ml",
   "language": "python",
   "name": "python3"
  },
  "language_info": {
   "codemirror_mode": {
    "name": "ipython",
    "version": 3
   },
   "file_extension": ".py",
   "mimetype": "text/x-python",
   "name": "python",
   "nbconvert_exporter": "python",
   "pygments_lexer": "ipython3",
   "version": "3.9.19"
  }
 },
 "nbformat": 4,
 "nbformat_minor": 2
}
