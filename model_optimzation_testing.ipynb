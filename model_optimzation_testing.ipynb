{
 "cells": [
  {
   "cell_type": "code",
   "execution_count": 14,
   "metadata": {},
   "outputs": [],
   "source": [
    "import numpy as np\n",
    "import tensorflow as tf\n",
    "lstm_model = tf.keras.models.load_model(r'models\\first_model.keras')"
   ]
  },
  {
   "cell_type": "code",
   "execution_count": 15,
   "metadata": {},
   "outputs": [],
   "source": [
    "lstm_converter = tf.lite.TFLiteConverter.from_keras_model(lstm_model)\n",
    "lstm_converter.optimizations = [tf.lite.Optimize.DEFAULT]\n",
    "lstm_converter.target_spec.supported_ops = [\n",
    "    tf.lite.OpsSet.TFLITE_BUILTINS,  # Default TFLite ops\n",
    "    tf.lite.OpsSet.SELECT_TF_OPS     # Enable TensorFlow ops in TFLite\n",
    "]"
   ]
  },
  {
   "cell_type": "code",
   "execution_count": 16,
   "metadata": {},
   "outputs": [
    {
     "name": "stdout",
     "output_type": "stream",
     "text": [
      "INFO:tensorflow:Assets written to: C:\\Users\\s9554\\AppData\\Local\\Temp\\tmpnueobwv8\\assets\n"
     ]
    },
    {
     "name": "stderr",
     "output_type": "stream",
     "text": [
      "INFO:tensorflow:Assets written to: C:\\Users\\s9554\\AppData\\Local\\Temp\\tmpnueobwv8\\assets\n"
     ]
    },
    {
     "name": "stdout",
     "output_type": "stream",
     "text": [
      "Saved artifact at 'C:\\Users\\s9554\\AppData\\Local\\Temp\\tmpnueobwv8'. The following endpoints are available:\n",
      "\n",
      "* Endpoint 'serve'\n",
      "  args_0 (POSITIONAL_ONLY): TensorSpec(shape=(None, 30, 132), dtype=tf.float32, name='input_layer_1')\n",
      "Output Type:\n",
      "  TensorSpec(shape=(None, 2), dtype=tf.float32, name=None)\n",
      "Captures:\n",
      "  2010411292448: TensorSpec(shape=(), dtype=tf.resource, name=None)\n",
      "  2010411291040: TensorSpec(shape=(), dtype=tf.resource, name=None)\n",
      "  2010411294560: TensorSpec(shape=(), dtype=tf.resource, name=None)\n",
      "  2010420172400: TensorSpec(shape=(), dtype=tf.resource, name=None)\n",
      "  2010420172224: TensorSpec(shape=(), dtype=tf.resource, name=None)\n",
      "  2010420173632: TensorSpec(shape=(), dtype=tf.resource, name=None)\n",
      "  2010461239248: TensorSpec(shape=(), dtype=tf.resource, name=None)\n",
      "  2010461239776: TensorSpec(shape=(), dtype=tf.resource, name=None)\n",
      "  2010461240128: TensorSpec(shape=(), dtype=tf.resource, name=None)\n",
      "  2010313812272: TensorSpec(shape=(), dtype=tf.resource, name=None)\n",
      "  2010313813328: TensorSpec(shape=(), dtype=tf.resource, name=None)\n",
      "  2010313811568: TensorSpec(shape=(), dtype=tf.resource, name=None)\n",
      "  2010313812096: TensorSpec(shape=(), dtype=tf.resource, name=None)\n",
      "  2010313639008: TensorSpec(shape=(), dtype=tf.resource, name=None)\n",
      "  2010313638656: TensorSpec(shape=(), dtype=tf.resource, name=None)\n",
      "  2010313641648: TensorSpec(shape=(), dtype=tf.resource, name=None)\n",
      "  2010313807824: TensorSpec(shape=(), dtype=tf.resource, name=None)\n",
      "  2010313808880: TensorSpec(shape=(), dtype=tf.resource, name=None)\n",
      "  2010313808704: TensorSpec(shape=(), dtype=tf.resource, name=None)\n"
     ]
    }
   ],
   "source": [
    "tflite_quantizes_lstm_model = lstm_converter.convert()"
   ]
  },
  {
   "cell_type": "code",
   "execution_count": 17,
   "metadata": {},
   "outputs": [],
   "source": [
    "with open(r\"D:\\VOWEL #project 1\\raspi_flask_tryOne\\models\\lstm_tflite.tflite\", \"wb\") as f:\n",
    "    f.write(tflite_quantizes_lstm_model)"
   ]
  },
  {
   "cell_type": "code",
   "execution_count": 18,
   "metadata": {},
   "outputs": [
    {
     "name": "stdout",
     "output_type": "stream",
     "text": [
      "inp: [{'name': 'serving_default_input_layer_1:0', 'index': 0, 'shape': array([  1,  30, 132]), 'shape_signature': array([ -1,  30, 132]), 'dtype': <class 'numpy.float32'>, 'quantization': (0.0, 0), 'quantization_parameters': {'scales': array([], dtype=float32), 'zero_points': array([], dtype=int32), 'quantized_dimension': 0}, 'sparsity_parameters': {}}]\n",
      "out: [{'name': 'StatefulPartitionedCall_1:0', 'index': 64, 'shape': array([1, 2]), 'shape_signature': array([-1,  2]), 'dtype': <class 'numpy.float32'>, 'quantization': (0.0, 0), 'quantization_parameters': {'scales': array([], dtype=float32), 'zero_points': array([], dtype=int32), 'quantized_dimension': 0}, 'sparsity_parameters': {}}]\n"
     ]
    }
   ],
   "source": [
    "tflite_model = tf.lite.Interpreter(model_path = r'models\\lstm_tflite.tflite')\n",
    "tflite_model.allocate_tensors()\n",
    "input_details = tflite_model.get_input_details()\n",
    "output_details = tflite_model.get_output_details()\n",
    "print(f\"inp: {input_details}\")\n",
    "print(f\"out: {output_details}\")"
   ]
  },
  {
   "cell_type": "code",
   "execution_count": 20,
   "metadata": {},
   "outputs": [],
   "source": [
    "input_shape = input_details[0]['shape']\n",
    "input_dtype = input_details[0]['dtype']\n",
    "tflite_model.set_tensor(input_details[0]['index'], np.random.rand(*input_shape).astype(input_dtype))"
   ]
  },
  {
   "cell_type": "code",
   "execution_count": 21,
   "metadata": {},
   "outputs": [],
   "source": [
    "#to perfome inference\n",
    "tflite_model.invoke()"
   ]
  },
  {
   "cell_type": "code",
   "execution_count": 22,
   "metadata": {},
   "outputs": [],
   "source": [
    "out = tflite_model.get_tensor(output_details[0]['index'])"
   ]
  },
  {
   "cell_type": "code",
   "execution_count": 23,
   "metadata": {},
   "outputs": [
    {
     "name": "stdout",
     "output_type": "stream",
     "text": [
      "(1, 2)\n"
     ]
    }
   ],
   "source": [
    "print(np.asarray(out).shape)"
   ]
  },
  {
   "cell_type": "code",
   "execution_count": null,
   "metadata": {},
   "outputs": [],
   "source": []
  }
 ],
 "metadata": {
  "kernelspec": {
   "display_name": "main_ml",
   "language": "python",
   "name": "python3"
  },
  "language_info": {
   "codemirror_mode": {
    "name": "ipython",
    "version": 3
   },
   "file_extension": ".py",
   "mimetype": "text/x-python",
   "name": "python",
   "nbconvert_exporter": "python",
   "pygments_lexer": "ipython3",
   "version": "3.9.19"
  }
 },
 "nbformat": 4,
 "nbformat_minor": 2
}
